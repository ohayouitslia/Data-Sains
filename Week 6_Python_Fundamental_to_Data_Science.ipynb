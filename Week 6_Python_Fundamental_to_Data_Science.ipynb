{
  "cells": [
    {
      "cell_type": "markdown",
      "metadata": {
        "id": "view-in-github",
        "colab_type": "text"
      },
      "source": [
        "<a href=\"https://colab.research.google.com/github/ohayouitslia/Data-Sains/blob/main/Week%206_Python_Fundamental_to_Data_Science.ipynb\" target=\"_parent\"><img src=\"https://colab.research.google.com/assets/colab-badge.svg\" alt=\"Open In Colab\"/></a>"
      ]
    },
    {
      "cell_type": "markdown",
      "id": "f84a8349",
      "metadata": {
        "id": "f84a8349"
      },
      "source": [
        "# 1. Fungsi print\n"
      ]
    },
    {
      "cell_type": "code",
      "execution_count": 1,
      "id": "f0ea8565",
      "metadata": {
        "id": "f0ea8565",
        "colab": {
          "base_uri": "https://localhost:8080/"
        },
        "outputId": "326b808a-02c7-41ce-c9bc-86cf11cd3702"
      },
      "outputs": [
        {
          "output_type": "stream",
          "name": "stdout",
          "text": [
            "Hello World\n"
          ]
        }
      ],
      "source": [
        "print(\"Hello World\")"
      ]
    },
    {
      "cell_type": "markdown",
      "source": [
        "fungsi print untuk menampilkan kata atau kalimat"
      ],
      "metadata": {
        "id": "-VgnF32m32Sc"
      },
      "id": "-VgnF32m32Sc"
    },
    {
      "cell_type": "markdown",
      "id": "f89a03a9",
      "metadata": {
        "id": "f89a03a9"
      },
      "source": [
        "# 2. Variable\n",
        "variable adalah huruf/kata yang dipakai untuk menyimpan suatu nilai (karakter/continu)"
      ]
    },
    {
      "cell_type": "code",
      "execution_count": 2,
      "id": "fec8e64d",
      "metadata": {
        "id": "fec8e64d",
        "colab": {
          "base_uri": "https://localhost:8080/"
        },
        "outputId": "667cb5ca-9929-49ce-915d-43f43004e223"
      },
      "outputs": [
        {
          "output_type": "stream",
          "name": "stdout",
          "text": [
            "Nama saya Liu, usia saya 21 tahun\n"
          ]
        }
      ],
      "source": [
        "usia = 21\n",
        "nama = \"Liu\"\n",
        "\n",
        "print (\"Nama saya Liu, usia saya 21 tahun\")"
      ]
    },
    {
      "cell_type": "markdown",
      "id": "65b1f85e",
      "metadata": {
        "id": "65b1f85e"
      },
      "source": [
        "# 3. List dan Set\n",
        "tempat untuk mengumpulkan beberapa nilai"
      ]
    },
    {
      "cell_type": "code",
      "execution_count": null,
      "id": "d46e7f21",
      "metadata": {
        "id": "d46e7f21",
        "colab": {
          "base_uri": "https://localhost:8080/"
        },
        "outputId": "15f84aaa-7d85-4c15-8cec-67c4f65ad467"
      },
      "outputs": [
        {
          "output_type": "execute_result",
          "data": {
            "text/plain": [
              "[29, 30, 27, 25]"
            ]
          },
          "metadata": {},
          "execution_count": 3
        }
      ],
      "source": [
        "list_usia = [29,30,27,25]\n",
        "list_usia"
      ]
    },
    {
      "cell_type": "code",
      "execution_count": null,
      "id": "7ba56e73",
      "metadata": {
        "id": "7ba56e73",
        "colab": {
          "base_uri": "https://localhost:8080/"
        },
        "outputId": "ad38fa44-9f77-47ad-d349-d6dbb08be05c"
      },
      "outputs": [
        {
          "output_type": "execute_result",
          "data": {
            "text/plain": [
              "(29, 30, 27, 25)"
            ]
          },
          "metadata": {},
          "execution_count": 4
        }
      ],
      "source": [
        "set_usia = (29,30,27,25)\n",
        "set_usia"
      ]
    },
    {
      "cell_type": "markdown",
      "id": "f6eeb8c2",
      "metadata": {
        "id": "f6eeb8c2"
      },
      "source": [
        "## 3.1. Append\n",
        "method untuk menambahkan item ke dalam list"
      ]
    },
    {
      "cell_type": "code",
      "execution_count": 4,
      "id": "2a8e0247",
      "metadata": {
        "colab": {
          "base_uri": "https://localhost:8080/",
          "height": 158
        },
        "id": "2a8e0247",
        "outputId": "51a1dd8b-29dd-4c80-ca4b-87330a363f32"
      },
      "outputs": [
        {
          "output_type": "error",
          "ename": "NameError",
          "evalue": "name 'list_usia' is not defined",
          "traceback": [
            "\u001b[0;31m---------------------------------------------------------------------------\u001b[0m",
            "\u001b[0;31mNameError\u001b[0m                                 Traceback (most recent call last)",
            "\u001b[0;32m<ipython-input-4-d5dbd9e328a5>\u001b[0m in \u001b[0;36m<cell line: 0>\u001b[0;34m()\u001b[0m\n\u001b[0;32m----> 1\u001b[0;31m \u001b[0mlist_usia\u001b[0m\u001b[0;34m.\u001b[0m\u001b[0mappend\u001b[0m\u001b[0;34m(\u001b[0m\u001b[0;36m50\u001b[0m\u001b[0;34m)\u001b[0m\u001b[0;34m\u001b[0m\u001b[0;34m\u001b[0m\u001b[0m\n\u001b[0m\u001b[1;32m      2\u001b[0m \u001b[0mlist_usia\u001b[0m\u001b[0;34m\u001b[0m\u001b[0;34m\u001b[0m\u001b[0m\n",
            "\u001b[0;31mNameError\u001b[0m: name 'list_usia' is not defined"
          ]
        }
      ],
      "source": [
        "list_usia.append(50)\n",
        "list_usia"
      ]
    },
    {
      "cell_type": "markdown",
      "id": "c5718e44",
      "metadata": {
        "id": "c5718e44"
      },
      "source": [
        "## 3.2. Slicing"
      ]
    },
    {
      "cell_type": "code",
      "execution_count": null,
      "id": "617b26ad",
      "metadata": {
        "colab": {
          "base_uri": "https://localhost:8080/"
        },
        "id": "617b26ad",
        "outputId": "2b63d894-ae5f-43ed-f012-998423f1770b"
      },
      "outputs": [
        {
          "output_type": "execute_result",
          "data": {
            "text/plain": [
              "27"
            ]
          },
          "metadata": {},
          "execution_count": 5
        }
      ],
      "source": [
        "list_usia[2]"
      ]
    },
    {
      "cell_type": "markdown",
      "id": "792b5b38",
      "metadata": {
        "id": "792b5b38"
      },
      "source": [
        "# 4. Looping/Iterasi"
      ]
    },
    {
      "cell_type": "code",
      "execution_count": null,
      "id": "6bb03f49",
      "metadata": {
        "colab": {
          "base_uri": "https://localhost:8080/"
        },
        "id": "6bb03f49",
        "outputId": "ab622bf5-8b4a-4188-8387-65cd54108f3f"
      },
      "outputs": [
        {
          "output_type": "execute_result",
          "data": {
            "text/plain": [
              "[0, 1, 2, 3, 4]"
            ]
          },
          "metadata": {},
          "execution_count": 11
        }
      ],
      "source": [
        "list_number = [i for i in range(5)]\n",
        "list_number"
      ]
    },
    {
      "cell_type": "code",
      "execution_count": null,
      "id": "664c4fd9",
      "metadata": {
        "colab": {
          "base_uri": "https://localhost:8080/"
        },
        "id": "664c4fd9",
        "outputId": "bf6d9244-dbea-4e4b-bd6a-83c71b65b1c5"
      },
      "outputs": [
        {
          "output_type": "stream",
          "name": "stdout",
          "text": [
            "0\n",
            "1\n",
            "2\n",
            "3\n",
            "4\n"
          ]
        }
      ],
      "source": [
        "# semua item di list/set akan diproses\n",
        "for item in list_number:\n",
        "    print(item)"
      ]
    },
    {
      "cell_type": "code",
      "execution_count": null,
      "id": "3c9e44ae",
      "metadata": {
        "colab": {
          "base_uri": "https://localhost:8080/"
        },
        "id": "3c9e44ae",
        "outputId": "3e8bf063-83a3-444e-9034-eef74d4f2548"
      },
      "outputs": [
        {
          "output_type": "stream",
          "name": "stdout",
          "text": [
            "1\n",
            "2\n",
            "3\n",
            "4\n",
            "5\n",
            "6\n",
            "7\n",
            "8\n",
            "9\n"
          ]
        }
      ],
      "source": [
        "for i in range(1,10):\n",
        "    print(i)"
      ]
    },
    {
      "cell_type": "markdown",
      "id": "7e79a3ba",
      "metadata": {
        "id": "7e79a3ba"
      },
      "source": [
        "# 5. Dictionary"
      ]
    },
    {
      "cell_type": "code",
      "execution_count": null,
      "id": "433d068d",
      "metadata": {
        "id": "433d068d"
      },
      "outputs": [],
      "source": [
        "# key : value\n",
        "contoh_dict = {\"kakek\":\"orangtua laki-laki dari ayah\",\n",
        "               \"nenek\" : \"orangtua perempuan dari ibu\"}"
      ]
    },
    {
      "cell_type": "code",
      "execution_count": null,
      "id": "450bd34e",
      "metadata": {
        "id": "450bd34e",
        "outputId": "89af7476-c27e-40d7-fdb5-75c2b73d089d",
        "colab": {
          "base_uri": "https://localhost:8080/",
          "height": 36
        }
      },
      "outputs": [
        {
          "output_type": "execute_result",
          "data": {
            "text/plain": [
              "'orangtua laki-laki dari ayah'"
            ],
            "application/vnd.google.colaboratory.intrinsic+json": {
              "type": "string"
            }
          },
          "metadata": {},
          "execution_count": 25
        }
      ],
      "source": [
        "contoh_dict[\"kakek\"]"
      ]
    },
    {
      "cell_type": "markdown",
      "id": "e6de4403",
      "metadata": {
        "id": "e6de4403"
      },
      "source": [
        "# 6. Conditional"
      ]
    },
    {
      "cell_type": "code",
      "execution_count": null,
      "id": "3c482dc4",
      "metadata": {
        "colab": {
          "base_uri": "https://localhost:8080/"
        },
        "id": "3c482dc4",
        "outputId": "f254d827-e734-4d18-8451-993941c38806"
      },
      "outputs": [
        {
          "output_type": "stream",
          "name": "stdout",
          "text": [
            "AB\n"
          ]
        }
      ],
      "source": [
        "# klasifikasi nilai\n",
        "# nilai>=81 : \"A\"\n",
        "# 76<=nilai<81 : \"AB\"\n",
        "# nilai <76 : 'C'\n",
        "nilai = 80\n",
        "\n",
        "if nilai>=81:\n",
        "   print('A')\n",
        "elif nilai>=76 and nilai<81:\n",
        "    print('AB')\n",
        "else :\n",
        "    print('C')\n",
        "\n"
      ]
    },
    {
      "cell_type": "markdown",
      "source": [
        "elif itu else if"
      ],
      "metadata": {
        "id": "SDts-BWR7JdH"
      },
      "id": "SDts-BWR7JdH"
    },
    {
      "cell_type": "markdown",
      "id": "00703e69",
      "metadata": {
        "id": "00703e69"
      },
      "source": [
        "# 7. Fungsi\n",
        "membuat suatu formula/rumus yang dapat dipakai berulang-ulang"
      ]
    },
    {
      "cell_type": "code",
      "execution_count": null,
      "id": "f9ed24f4",
      "metadata": {
        "id": "f9ed24f4"
      },
      "outputs": [],
      "source": [
        "def luaspp(p,l):\n",
        "    L= p*l\n",
        "    return L"
      ]
    },
    {
      "cell_type": "markdown",
      "source": [
        "def itu definisi"
      ],
      "metadata": {
        "id": "6g1VGB147_lO"
      },
      "id": "6g1VGB147_lO"
    },
    {
      "cell_type": "code",
      "execution_count": null,
      "id": "5011ad9a",
      "metadata": {
        "id": "5011ad9a",
        "outputId": "9a506608-2119-4f8a-da87-9c9e5516ed20",
        "colab": {
          "base_uri": "https://localhost:8080/"
        }
      },
      "outputs": [
        {
          "output_type": "execute_result",
          "data": {
            "text/plain": [
              "20"
            ]
          },
          "metadata": {},
          "execution_count": 42
        }
      ],
      "source": [
        "luaspp(4,5)"
      ]
    },
    {
      "cell_type": "code",
      "execution_count": null,
      "id": "40c4563d",
      "metadata": {
        "id": "40c4563d",
        "outputId": "44abb07e-d6f3-4a3e-e10a-ee8220ee8fef",
        "colab": {
          "base_uri": "https://localhost:8080/"
        }
      },
      "outputs": [
        {
          "output_type": "execute_result",
          "data": {
            "text/plain": [
              "24.0"
            ]
          },
          "metadata": {},
          "execution_count": 43
        }
      ],
      "source": [
        "luaspp(10,2.4)"
      ]
    },
    {
      "cell_type": "markdown",
      "id": "88f36fe3",
      "metadata": {
        "id": "88f36fe3"
      },
      "source": [
        "Buat kode untuk mencari luas lingkaran\n",
        "$L=\\frac{22}{7} \\times r^2$"
      ]
    },
    {
      "cell_type": "code",
      "execution_count": 18,
      "id": "05567ef5",
      "metadata": {
        "id": "05567ef5",
        "colab": {
          "base_uri": "https://localhost:8080/"
        },
        "outputId": "8c251ad9-db5b-4d67-d9c9-9242b964161d"
      },
      "outputs": [
        {
          "output_type": "stream",
          "name": "stdout",
          "text": [
            "luas_circle dengan jari-jari 7 adalah 154.0\n"
          ]
        }
      ],
      "source": [
        "def luas_circle(r):\n",
        "    luas_circle = 22/7 * r**2\n",
        "    return luas_circle\n",
        "\n",
        "r = 7\n",
        "luas_circle = luas_circle(r)\n",
        "print (f\"luas_circle dengan jari-jari {r} adalah {luas_circle}\")"
      ]
    },
    {
      "cell_type": "code",
      "source": [
        ":"
      ],
      "metadata": {
        "id": "o1yPvhxn-51x"
      },
      "id": "o1yPvhxn-51x",
      "execution_count": null,
      "outputs": []
    }
  ],
  "metadata": {
    "kernelspec": {
      "display_name": "Python 3 (ipykernel)",
      "language": "python",
      "name": "python3"
    },
    "language_info": {
      "codemirror_mode": {
        "name": "ipython",
        "version": 3
      },
      "file_extension": ".py",
      "mimetype": "text/x-python",
      "name": "python",
      "nbconvert_exporter": "python",
      "pygments_lexer": "ipython3",
      "version": "3.8.18"
    },
    "colab": {
      "provenance": [],
      "include_colab_link": true
    }
  },
  "nbformat": 4,
  "nbformat_minor": 5
}